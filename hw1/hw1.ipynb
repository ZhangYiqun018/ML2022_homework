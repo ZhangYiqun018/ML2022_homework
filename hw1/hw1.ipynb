{
 "cells": [
  {
   "cell_type": "code",
   "execution_count": 15,
   "metadata": {},
   "outputs": [],
   "source": [
    "import pandas as pd\n",
    "import numpy as np\n",
    "from tqdm import tqdm, trange\n",
    "import os\n",
    "from torch.utils.tensorboard import SummaryWriter\n",
    "from torch.utils.data import Dataset, DataLoader, random_split\n",
    "import csv"
   ]
  },
  {
   "cell_type": "markdown",
   "metadata": {},
   "source": [
    "1. pred.detach().cpu 的用法\n",
    "2. tensorboard的用法\n",
    "3. test为什么要变成model.eval()模式？"
   ]
  },
  {
   "cell_type": "code",
   "execution_count": 21,
   "metadata": {},
   "outputs": [],
   "source": [
    "def select_features(train_data, valid_data, test_data, select_all = True):\n",
    "    y_train, y_valid  = train_data[:, -1], valid_data[:, -1]\n",
    "\n",
    "    raw_x_train, raw_x_valid, raw_x_test = train_data[:, :-1], valid_data[:, :-1], test_data\n",
    "\n",
    "    if select_all:\n",
    "        feature_idx = list(range(raw_x_train.shape[1]))\n",
    "    else:\n",
    "        feature_idx = [0, 1, 2, 3, 4]\n",
    "\n",
    "    return raw_x_train[:, feature_idx], raw_x_valid[:, feature_idx], raw_x_test[:, feature_idx], y_train, y_valid\n",
    "\n",
    "def predict(model, test_loader, device):\n",
    "    model.eval()\n",
    "    preds = []\n",
    "    for x in tqdm(test_loader):\n",
    "        x = x.to(device)\n",
    "        with torch.no_grad():\n",
    "            pred = model(x)\n",
    "            preds.append(pred.detach().cpu())\n",
    "    preds = torch.cat(preds, dim=0).numpy()\n",
    "\n",
    "    return preds\n",
    "\n",
    "def train_valid_split(data_set, valid_ratio):\n",
    "    valid_set_size = int(valid_ratio * len(data_set))\n",
    "    train_set_size = len(data_set) - valid_set_size\n",
    "    train_set, valid_set = random_split(data_set, [train_set_size, valid_set_size])\n",
    "    return np.array(train_set), np.array(valid_set)"
   ]
  },
  {
   "cell_type": "code",
   "execution_count": 5,
   "metadata": {},
   "outputs": [],
   "source": [
    "# 读数据的类\n",
    "class myData(Dataset):\n",
    "    def __init__(self, x, y=None):\n",
    "        # 开预测模式\n",
    "        if y is None:\n",
    "            self.y = y\n",
    "        else:\n",
    "            self.y = torch.FloatTensor(y)\n",
    "        self.x = torch.FloatTensor(x)\n",
    "    \n",
    "    def __len__(self):\n",
    "        return len(self.x)\n",
    "    \n",
    "    def __getitem__(self, index):\n",
    "        if self.y is None:\n",
    "            return self.x[index]\n",
    "        return self.x[index], self.y[index]"
   ]
  },
  {
   "cell_type": "code",
   "execution_count": 17,
   "metadata": {},
   "outputs": [],
   "source": [
    "import torch\n",
    "import torch.nn as nn\n",
    "# network structure\n",
    "class Model(nn.Module):\n",
    "    def __init__(self, input_dim):\n",
    "        super(Model, self).__init__()\n",
    "        self.layers = nn.Sequential(\n",
    "            nn.Linear(input_dim, 16),\n",
    "            nn.ReLU(),\n",
    "            nn.Linear(16, 8),\n",
    "            nn.ReLU(),\n",
    "            nn.Linear(8, 1)\n",
    "        )\n",
    "    \n",
    "    def forward(self, x):\n",
    "        x = self.layers(x)\n",
    "        return x.squeeze(1)"
   ]
  },
  {
   "cell_type": "code",
   "execution_count": 26,
   "metadata": {},
   "outputs": [],
   "source": [
    "# 训练\n",
    "def train(train_loader, valid_loader, config, device):\n",
    "    criterion = nn.MSELoss()\n",
    "    # 动态学习率\n",
    "    optimizer = torch.optim.SGD(model.parameters(), lr = config['learning_rate'], momentum=0.9)\n",
    "\n",
    "    writer = SummaryWriter()\n",
    "\n",
    "    if not os.path.isdir('./models'):\n",
    "        os.mkdir('./models')\n",
    "    \n",
    "    n_epochs, best_loss, step, early_step_count = config['n_epochs'], float('inf'), 0, 0\n",
    "    \n",
    "    # 训练 交叉验证 验证\n",
    "    # train valid test\n",
    "    for epoch in range(n_epochs):\n",
    "        model.train()\n",
    "        loss_record = []\n",
    "        train_pbar = tqdm(train_loader, position=0, leave=True)\n",
    "\n",
    "        for x, y in train_pbar:\n",
    "            optimizer.zero_grad()\n",
    "            x, y = x.to(device), y.to(device)\n",
    "            pred = model(x)\n",
    "            loss = criterion(pred, y)\n",
    "            loss.backward()\n",
    "            optimizer.step()\n",
    "            step += 1\n",
    "            loss_record.append(loss.detach().item())\n",
    "\n",
    "            train_pbar.set_description(f'Epoch [{epoch+1}/{n_epochs}]')\n",
    "            train_pbar.set_postfix({'loss': loss.detach().item()})\n",
    "        \n",
    "        mean_train_loss = sum(loss_record) / len(loss_record)\n",
    "        writer.add_scalar('Loss/train', mean_train_loss, step)\n",
    "\n",
    "        model.eval()\n",
    "        loss_record = []\n",
    "\n",
    "        for x, y in valid_loader:\n",
    "            x, y = x.to(device), y.to(device)\n",
    "            with torch.no_grad():\n",
    "                pred = model(x)\n",
    "                loss = criterion(pred, y)\n",
    "            loss_record.append(loss.item())\n",
    "        mean_valid_loss = sum(loss_record) / len(loss_record)\n",
    "        print(f'Epoch [{epoch+1}/{n_epochs}] : Train loss : {mean_train_loss:.4f}, Valid loss : {mean_valid_loss: .4f}')\n",
    "        writer.add_scalar('Loss/valid', mean_valid_loss, step)\n",
    "\n",
    "        if mean_valid_loss < best_loss:\n",
    "            best_loss = mean_valid_loss\n",
    "            torch.save(model.state_dict(), config['save_path'])\n",
    "            print('Saving model with loss {:3f}...'.format(best_loss))\n",
    "            early_step_count = 0\n",
    "        else:\n",
    "            early_step_count += 1\n",
    "        \n",
    "        if early_step_count >= config['early_stop']:\n",
    "            print('\\nM<odel is not improving, so we halt the training session.')\n",
    "            return "
   ]
  },
  {
   "cell_type": "code",
   "execution_count": 27,
   "metadata": {},
   "outputs": [],
   "source": [
    "device = 'cuda' if torch.cuda.is_available() else 'cpu'\n",
    "# 超参数\n",
    "config = {\n",
    "    'seed'         : 20020225,\n",
    "    'select_all'   : True,\n",
    "    'valid_ratio'  : 0.3,\n",
    "    'n_epochs'     : 3000,\n",
    "    'batch_size'   : 256,\n",
    "    'learning_rate': 1e-5,\n",
    "    'early_stop'   : 400,\n",
    "    'save_path'    : './models/model.ckpt'\n",
    "}"
   ]
  },
  {
   "cell_type": "markdown",
   "metadata": {},
   "source": [
    "pin_memory 锁页内存，能加快训练速度"
   ]
  },
  {
   "cell_type": "code",
   "execution_count": 32,
   "metadata": {},
   "outputs": [],
   "source": [
    "same_seed = config['seed']\n",
    "\n",
    "train_data = pd.read_csv('data/covid.train.csv').values\n",
    "test_data = pd.read_csv('data/covid.test.csv').values\n",
    "\n",
    "train_data, valid_data = train_valid_split(train_data, config['valid_ratio'])\n",
    "\n",
    "x_train, x_valid, x_test, y_train, y_valid = select_features(\n",
    "    train_data, valid_data, test_data, select_all=config['select_all']\n",
    ")\n",
    "\n",
    "train_dataset = myData(x_train, y_train)\n",
    "valid_dataset = myData(x_valid, y_valid)\n",
    "test_dataset  = myData(x_test)\n",
    "\n",
    "train_loader = DataLoader(train_dataset, batch_size = config['batch_size'], shuffle=True, pin_memory=True)\n",
    "valid_loader = DataLoader(valid_dataset, batch_size = config['batch_size'], shuffle=True, pin_memory=True)\n",
    "test_loader  = DataLoader(test_dataset, batch_size = config['batch_size'], shuffle=True, pin_memory=True)"
   ]
  },
  {
   "cell_type": "code",
   "execution_count": null,
   "metadata": {},
   "outputs": [],
   "source": [
    "model = Model(input_dim=x_train.shape[1]).to(device)\n",
    "train(train_loader, valid_loader, config, device)"
   ]
  },
  {
   "cell_type": "markdown",
   "metadata": {},
   "source": [
    "# Plot learning curves with tensorboard"
   ]
  },
  {
   "cell_type": "code",
   "execution_count": 30,
   "metadata": {},
   "outputs": [
    {
     "data": {
      "text/plain": [
       "Reusing TensorBoard on port 6006 (pid 58267), started 0:38:18 ago. (Use '!kill 58267' to kill it.)"
      ]
     },
     "metadata": {},
     "output_type": "display_data"
    },
    {
     "data": {
      "text/html": [
       "\n",
       "      <iframe id=\"tensorboard-frame-a770c3416f7ceaf0\" width=\"100%\" height=\"800\" frameborder=\"0\">\n",
       "      </iframe>\n",
       "      <script>\n",
       "        (function() {\n",
       "          const frame = document.getElementById(\"tensorboard-frame-a770c3416f7ceaf0\");\n",
       "          const url = new URL(\"http://localhost\");\n",
       "          const port = 6006;\n",
       "          if (port) {\n",
       "            url.port = port;\n",
       "          }\n",
       "          frame.src = url;\n",
       "        })();\n",
       "      </script>\n",
       "    "
      ],
      "text/plain": [
       "<IPython.core.display.HTML object>"
      ]
     },
     "metadata": {},
     "output_type": "display_data"
    }
   ],
   "source": [
    "%reload_ext tensorboard\n",
    "%tensorboard --logdir=./runs/"
   ]
  },
  {
   "cell_type": "markdown",
   "metadata": {},
   "source": [
    "# Testing\n",
    "\n",
    "model.load_state_dict(torch.load(root)) 加载训练好的模型"
   ]
  },
  {
   "cell_type": "code",
   "execution_count": 33,
   "metadata": {},
   "outputs": [
    {
     "name": "stderr",
     "output_type": "stream",
     "text": [
      "100%|██████████| 5/5 [00:00<00:00, 1325.88it/s]\n"
     ]
    }
   ],
   "source": [
    "# def save_pred(preds, file):\n",
    "#     with open(file, 'w') as f:\n",
    "#         writer = csv.writer(f)\n",
    "#         writer.writerow(['id'], 'tested_positive')\n",
    "#         for i, p in enumerate(preds):\n",
    "#             writer.writerow([i, p])\n",
    "def save_pred(preds, file):\n",
    "    fp = pd.DataFrame(\n",
    "        preds,\n",
    "        columns=['tested_positive']\n",
    "    )\n",
    "    fp.to_csv(file)\n",
    "\n",
    "model = Model(input_dim=x_train.shape[1]).to(device)\n",
    "model.load_state_dict(torch.load(config['save_path']))\n",
    "preds = predict(model, test_loader, device)\n",
    "save_pred(preds, 'pred.csv')"
   ]
  },
  {
   "cell_type": "code",
   "execution_count": null,
   "metadata": {},
   "outputs": [],
   "source": []
  }
 ],
 "metadata": {
  "interpreter": {
   "hash": "40d3a090f54c6569ab1632332b64b2c03c39dcf918b08424e98f38b5ae0af88f"
  },
  "kernelspec": {
   "display_name": "Python 3.8.5 ('base')",
   "language": "python",
   "name": "python3"
  },
  "language_info": {
   "codemirror_mode": {
    "name": "ipython",
    "version": 3
   },
   "file_extension": ".py",
   "mimetype": "text/x-python",
   "name": "python",
   "nbconvert_exporter": "python",
   "pygments_lexer": "ipython3",
   "version": "3.9.12"
  },
  "orig_nbformat": 4
 },
 "nbformat": 4,
 "nbformat_minor": 2
}
